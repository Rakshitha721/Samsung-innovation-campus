{
  "cells": [
    {
      "cell_type": "markdown",
      "metadata": {
        "id": "view-in-github",
        "colab_type": "text"
      },
      "source": [
        "<a href=\"https://colab.research.google.com/github/Rakshitha721/Samsung-innovation-campus/blob/main/ex_0103.ipynb\" target=\"_parent\"><img src=\"https://colab.research.google.com/assets/colab-badge.svg\" alt=\"Open In Colab\"/></a>"
      ]
    },
    {
      "cell_type": "markdown",
      "metadata": {
        "id": "tFhJqWNqgaFs"
      },
      "source": [
        "## Coding Exercise #0103"
      ]
    },
    {
      "cell_type": "markdown",
      "metadata": {
        "id": "UQyNHayDgaFt"
      },
      "source": [
        "### 1. List:"
      ]
    },
    {
      "cell_type": "code",
      "source": [],
      "metadata": {
        "id": "3D6Q0DZWgbZz"
      },
      "execution_count": null,
      "outputs": []
    },
    {
      "cell_type": "markdown",
      "metadata": {
        "id": "_r8pq-9QgaFu"
      },
      "source": [
        "#### 1.1. Creating lists:"
      ]
    },
    {
      "cell_type": "code",
      "execution_count": 1,
      "metadata": {
        "id": "-ze0XCdPgaFu",
        "outputId": "e042bed9-d129-4506-8a18-250fc43d1831",
        "colab": {
          "base_uri": "https://localhost:8080/"
        }
      },
      "outputs": [
        {
          "output_type": "execute_result",
          "data": {
            "text/plain": [
              "list"
            ]
          },
          "metadata": {},
          "execution_count": 1
        }
      ],
      "source": [
        "x = [1, 3, True, False, 'Hello', [3,5,7]]\n",
        "type(x)"
      ]
    },
    {
      "cell_type": "code",
      "execution_count": 2,
      "metadata": {
        "id": "IeuEqzGQgaFu",
        "outputId": "d5a8f4bc-0f4c-469b-ca92-03834e1d6b51",
        "colab": {
          "base_uri": "https://localhost:8080/"
        }
      },
      "outputs": [
        {
          "output_type": "execute_result",
          "data": {
            "text/plain": [
              "range(1, 5)"
            ]
          },
          "metadata": {},
          "execution_count": 2
        }
      ],
      "source": [
        "# A range.\n",
        "range(1,5)"
      ]
    },
    {
      "cell_type": "code",
      "execution_count": 3,
      "metadata": {
        "id": "y5UpevCggaFu",
        "outputId": "5a89bdfb-4d11-45c3-98ea-cabe6ca88f5b",
        "colab": {
          "base_uri": "https://localhost:8080/"
        }
      },
      "outputs": [
        {
          "output_type": "execute_result",
          "data": {
            "text/plain": [
              "[1, 2, 3, 4]"
            ]
          },
          "metadata": {},
          "execution_count": 3
        }
      ],
      "source": [
        "# A range cast as list.\n",
        "x = list(range(1,5))\n",
        "x"
      ]
    },
    {
      "cell_type": "code",
      "execution_count": 4,
      "metadata": {
        "id": "Gq39LCbVgaFv",
        "outputId": "62d2ed40-e421-4962-a331-e7e8de987cea",
        "colab": {
          "base_uri": "https://localhost:8080/"
        }
      },
      "outputs": [
        {
          "output_type": "execute_result",
          "data": {
            "text/plain": [
              "[1, 3, 5, 7, 9]"
            ]
          },
          "metadata": {},
          "execution_count": 4
        }
      ],
      "source": [
        "list(range(1,10,2))"
      ]
    },
    {
      "cell_type": "code",
      "execution_count": 5,
      "metadata": {
        "id": "hpJlz4hwgaFv",
        "outputId": "8726d623-f78a-4486-8740-8e3ef855401f",
        "colab": {
          "base_uri": "https://localhost:8080/"
        }
      },
      "outputs": [
        {
          "output_type": "execute_result",
          "data": {
            "text/plain": [
              "[0, 5, 10, 15, 20]"
            ]
          },
          "metadata": {},
          "execution_count": 5
        }
      ],
      "source": [
        "list(range(0,21,5))"
      ]
    },
    {
      "cell_type": "markdown",
      "metadata": {
        "id": "bhRjEPyzgaFv"
      },
      "source": [
        "#### 1.2. Indexing and slicing lists:"
      ]
    },
    {
      "cell_type": "code",
      "execution_count": 6,
      "metadata": {
        "id": "FCwuS8emgaFv",
        "outputId": "89bec968-7faf-4f3c-e2ff-b9b80f59f346",
        "colab": {
          "base_uri": "https://localhost:8080/"
        }
      },
      "outputs": [
        {
          "output_type": "execute_result",
          "data": {
            "text/plain": [
              "2"
            ]
          },
          "metadata": {},
          "execution_count": 6
        }
      ],
      "source": [
        "x = [1, 2, ['Life', 'is']]\n",
        "x[1]"
      ]
    },
    {
      "cell_type": "code",
      "execution_count": 7,
      "metadata": {
        "id": "K49rwgV0gaFv",
        "outputId": "2cc17220-cae2-4fe5-c9fa-714a3e0c6ad3",
        "colab": {
          "base_uri": "https://localhost:8080/"
        }
      },
      "outputs": [
        {
          "output_type": "execute_result",
          "data": {
            "text/plain": [
              "['Life', 'is']"
            ]
          },
          "metadata": {},
          "execution_count": 7
        }
      ],
      "source": [
        "x[2]"
      ]
    },
    {
      "cell_type": "code",
      "execution_count": 8,
      "metadata": {
        "id": "Tf_QBtdugaFv",
        "outputId": "c96d49a0-6988-46b6-9195-ff4971790544",
        "colab": {
          "base_uri": "https://localhost:8080/",
          "height": 36
        }
      },
      "outputs": [
        {
          "output_type": "execute_result",
          "data": {
            "text/plain": [
              "'is'"
            ],
            "application/vnd.google.colaboratory.intrinsic+json": {
              "type": "string"
            }
          },
          "metadata": {},
          "execution_count": 8
        }
      ],
      "source": [
        "x[2][1]"
      ]
    },
    {
      "cell_type": "code",
      "execution_count": 9,
      "metadata": {
        "id": "5QMTktrxgaFv",
        "outputId": "4c370e60-4567-4cbb-9222-676f2857d15f",
        "colab": {
          "base_uri": "https://localhost:8080/"
        }
      },
      "outputs": [
        {
          "output_type": "execute_result",
          "data": {
            "text/plain": [
              "[3, ['a', 'b', 'c'], 4]"
            ]
          },
          "metadata": {},
          "execution_count": 9
        }
      ],
      "source": [
        "x = [1, 2, 3, ['a', 'b', 'c'], 4, 5]\n",
        "x[2:5]"
      ]
    },
    {
      "cell_type": "code",
      "execution_count": 10,
      "metadata": {
        "id": "q0XheGZAgaFv",
        "outputId": "e049c921-6c97-417e-8b9f-a8bb6240f2c5",
        "colab": {
          "base_uri": "https://localhost:8080/"
        }
      },
      "outputs": [
        {
          "output_type": "execute_result",
          "data": {
            "text/plain": [
              "['a', 'b']"
            ]
          },
          "metadata": {},
          "execution_count": 10
        }
      ],
      "source": [
        "x[3][:2]"
      ]
    },
    {
      "cell_type": "markdown",
      "metadata": {
        "id": "Cq0l9kWMgaFw"
      },
      "source": [
        "#### 1.3. Operations with lists:"
      ]
    },
    {
      "cell_type": "code",
      "execution_count": 11,
      "metadata": {
        "id": "qJtQ-eGCgaFw",
        "outputId": "4bfe8771-bbe9-49f8-d2de-22392e5d34d7",
        "colab": {
          "base_uri": "https://localhost:8080/"
        }
      },
      "outputs": [
        {
          "output_type": "execute_result",
          "data": {
            "text/plain": [
              "[1, 2, 3, 4, 5, 6]"
            ]
          },
          "metadata": {},
          "execution_count": 11
        }
      ],
      "source": [
        "a = [1, 2, 3]\n",
        "b = [4, 5, 6]\n",
        "a + b"
      ]
    },
    {
      "cell_type": "code",
      "execution_count": 12,
      "metadata": {
        "id": "psSfNG07gaFw",
        "outputId": "3ebc90fc-5974-431f-a4fe-66c519e4549e",
        "colab": {
          "base_uri": "https://localhost:8080/"
        }
      },
      "outputs": [
        {
          "output_type": "execute_result",
          "data": {
            "text/plain": [
              "[1, 2, 3, 1, 2, 3, 1, 2, 3]"
            ]
          },
          "metadata": {},
          "execution_count": 12
        }
      ],
      "source": [
        "x = [1, 2, 3]\n",
        "x*3"
      ]
    },
    {
      "cell_type": "markdown",
      "metadata": {
        "id": "ZR-NgGSKgaFw"
      },
      "source": [
        "#### 1.4. Changing list content:"
      ]
    },
    {
      "cell_type": "code",
      "execution_count": 13,
      "metadata": {
        "id": "plZSQC3dgaFw",
        "outputId": "f4d06b1c-eadd-42ce-d614-b04a5ff954f9",
        "colab": {
          "base_uri": "https://localhost:8080/"
        }
      },
      "outputs": [
        {
          "output_type": "execute_result",
          "data": {
            "text/plain": [
              "[1, -1, 3]"
            ]
          },
          "metadata": {},
          "execution_count": 13
        }
      ],
      "source": [
        "x = [1, 2, 3]\n",
        "x[1] = -1\n",
        "x"
      ]
    },
    {
      "cell_type": "code",
      "execution_count": 14,
      "metadata": {
        "id": "UW98SgHxgaFw",
        "outputId": "b41dbd8a-7cce-4fbf-ff6e-4d6ae9ae7153",
        "colab": {
          "base_uri": "https://localhost:8080/"
        }
      },
      "outputs": [
        {
          "output_type": "execute_result",
          "data": {
            "text/plain": [
              "[1, 3, 5, 7, 9, 11]"
            ]
          },
          "metadata": {},
          "execution_count": 14
        }
      ],
      "source": [
        "x[1:3] = [3, 5, 7, 9, 11]\n",
        "x"
      ]
    },
    {
      "cell_type": "markdown",
      "metadata": {
        "id": "k-Ljc9XcgaFw"
      },
      "source": [
        "Let's carefully distinguish the following cases:"
      ]
    },
    {
      "cell_type": "code",
      "execution_count": 15,
      "metadata": {
        "id": "n_60mOfMgaFw",
        "outputId": "b65d41cf-020d-4aa7-a79f-9626690afca9",
        "colab": {
          "base_uri": "https://localhost:8080/"
        }
      },
      "outputs": [
        {
          "output_type": "execute_result",
          "data": {
            "text/plain": [
              "[1, -1, -2, -3, 3]"
            ]
          },
          "metadata": {},
          "execution_count": 15
        }
      ],
      "source": [
        "# Replace part of a list.\n",
        "x = [1, 2, 3]\n",
        "x[1:2] = [-1, -2, -3]\n",
        "x"
      ]
    },
    {
      "cell_type": "code",
      "execution_count": 16,
      "metadata": {
        "id": "MFRwUr5igaFw",
        "outputId": "a19ae518-c6ea-4d8e-9161-e4dbad9e7b16",
        "colab": {
          "base_uri": "https://localhost:8080/"
        }
      },
      "outputs": [
        {
          "output_type": "execute_result",
          "data": {
            "text/plain": [
              "[1, [-1, -2, -3], 3]"
            ]
          },
          "metadata": {},
          "execution_count": 16
        }
      ],
      "source": [
        "# List a particular element of the list.\n",
        "x = [1, 2, 3]\n",
        "x[1] = [-1, -2, -3]\n",
        "x"
      ]
    },
    {
      "cell_type": "markdown",
      "metadata": {
        "id": "dpvB4MKbgaFw"
      },
      "source": [
        "#### 1.5. Deleting part of a list:"
      ]
    },
    {
      "cell_type": "code",
      "execution_count": 17,
      "metadata": {
        "id": "a4U97y_lgaFw",
        "outputId": "d992c136-50fe-419a-b990-3ae8b6ec33fb",
        "colab": {
          "base_uri": "https://localhost:8080/"
        }
      },
      "outputs": [
        {
          "output_type": "execute_result",
          "data": {
            "text/plain": [
              "[1, 4, 5]"
            ]
          },
          "metadata": {},
          "execution_count": 17
        }
      ],
      "source": [
        "x = [1, 2, 3, 4, 5]\n",
        "x[1:3] = []\n",
        "x"
      ]
    },
    {
      "cell_type": "code",
      "execution_count": 18,
      "metadata": {
        "id": "j8N4BC-CgaFw",
        "outputId": "bed10a5e-65a6-4550-c9a7-bf393464233a",
        "colab": {
          "base_uri": "https://localhost:8080/"
        }
      },
      "outputs": [
        {
          "output_type": "execute_result",
          "data": {
            "text/plain": [
              "[1, 2, 4, 5]"
            ]
          },
          "metadata": {},
          "execution_count": 18
        }
      ],
      "source": [
        "x = [1, 2, 3, 4, 5]\n",
        "del x[2]\n",
        "x"
      ]
    },
    {
      "cell_type": "markdown",
      "metadata": {
        "id": "_vwWbR2AgaFw"
      },
      "source": [
        "#### 1.6. Functions and methods for list objects:"
      ]
    },
    {
      "cell_type": "code",
      "execution_count": 19,
      "metadata": {
        "id": "QurYNWirgaFw",
        "outputId": "47d9c50d-9c25-451b-c4b6-c7b23b84f0e7",
        "colab": {
          "base_uri": "https://localhost:8080/"
        }
      },
      "outputs": [
        {
          "output_type": "execute_result",
          "data": {
            "text/plain": [
              "5"
            ]
          },
          "metadata": {},
          "execution_count": 19
        }
      ],
      "source": [
        "x = [2,4,6,8,10]\n",
        "len(x)"
      ]
    },
    {
      "cell_type": "code",
      "execution_count": 20,
      "metadata": {
        "id": "_jb9VYKRgaFw",
        "outputId": "aef3c6d0-ed96-49a0-d39e-e7d9062b57aa",
        "colab": {
          "base_uri": "https://localhost:8080/"
        }
      },
      "outputs": [
        {
          "output_type": "execute_result",
          "data": {
            "text/plain": [
              "[1, 2, 3, 4, [5, 6]]"
            ]
          },
          "metadata": {},
          "execution_count": 20
        }
      ],
      "source": [
        "x = [1, 2, 3]\n",
        "x.append(4)\n",
        "x.append([5,6])\n",
        "x"
      ]
    },
    {
      "cell_type": "code",
      "execution_count": 21,
      "metadata": {
        "id": "kanXR4GhgaFw",
        "outputId": "3e90fda3-d02d-4752-ca42-659f3eb68ed7",
        "colab": {
          "base_uri": "https://localhost:8080/"
        }
      },
      "outputs": [
        {
          "output_type": "execute_result",
          "data": {
            "text/plain": [
              "[5, 4, 3, 2, 1]"
            ]
          },
          "metadata": {},
          "execution_count": 21
        }
      ],
      "source": [
        "x = [1, 2, 3, 4, 5]\n",
        "x.reverse()\n",
        "x"
      ]
    },
    {
      "cell_type": "code",
      "execution_count": 22,
      "metadata": {
        "id": "04N0QLOhgaFw",
        "outputId": "f05563fb-182a-4439-b18c-14c52778cddb",
        "colab": {
          "base_uri": "https://localhost:8080/"
        }
      },
      "outputs": [
        {
          "output_type": "execute_result",
          "data": {
            "text/plain": [
              "[1, 2, 3, 4, 5]"
            ]
          },
          "metadata": {},
          "execution_count": 22
        }
      ],
      "source": [
        "# The sort() method changes the list permanently.\n",
        "x = [3, 1, 5, 2, 4]\n",
        "x.sort()\n",
        "x"
      ]
    },
    {
      "cell_type": "code",
      "execution_count": 23,
      "metadata": {
        "id": "XrWBicecgaFw",
        "outputId": "4b5d2254-bfb4-4652-c2ad-8f7315e55c40",
        "colab": {
          "base_uri": "https://localhost:8080/"
        }
      },
      "outputs": [
        {
          "output_type": "execute_result",
          "data": {
            "text/plain": [
              "[5, 4, 3, 2, 1]"
            ]
          },
          "metadata": {},
          "execution_count": 23
        }
      ],
      "source": [
        "x = [3, 1, 5, 2, 4]\n",
        "x.sort(reverse=True)\n",
        "x"
      ]
    },
    {
      "cell_type": "code",
      "execution_count": 24,
      "metadata": {
        "id": "-VkaTwmtgaFw",
        "outputId": "5204fa2d-20ef-4fc5-bb49-cfbda462f0a2",
        "colab": {
          "base_uri": "https://localhost:8080/"
        }
      },
      "outputs": [
        {
          "output_type": "execute_result",
          "data": {
            "text/plain": [
              "[1, 2, 3, 4, 5]"
            ]
          },
          "metadata": {},
          "execution_count": 24
        }
      ],
      "source": [
        "# The function sorted() just returns a view without changing the list permanently.\n",
        "x = [3, 1, 5, 2, 4]\n",
        "sorted(x)"
      ]
    },
    {
      "cell_type": "code",
      "execution_count": 25,
      "metadata": {
        "id": "Z2vWO9-ZgaFw",
        "outputId": "0707a560-a207-4a5f-a42c-98c338e98538",
        "colab": {
          "base_uri": "https://localhost:8080/"
        }
      },
      "outputs": [
        {
          "output_type": "execute_result",
          "data": {
            "text/plain": [
              "[3, 1, 5, 2, 4]"
            ]
          },
          "metadata": {},
          "execution_count": 25
        }
      ],
      "source": [
        "# We can verify that 'x' is the same as before.\n",
        "x"
      ]
    },
    {
      "cell_type": "markdown",
      "metadata": {
        "id": "WRXho_kogaFw"
      },
      "source": [
        "### 2. Tuple:"
      ]
    },
    {
      "cell_type": "markdown",
      "metadata": {
        "id": "IPgyzPN3gaFw"
      },
      "source": [
        "#### 2.1. Creating tuples:"
      ]
    },
    {
      "cell_type": "code",
      "execution_count": 26,
      "metadata": {
        "id": "f6fCvtLZgaFw",
        "outputId": "07187f7a-afbb-407d-f20d-4f967dfa150e",
        "colab": {
          "base_uri": "https://localhost:8080/"
        }
      },
      "outputs": [
        {
          "output_type": "execute_result",
          "data": {
            "text/plain": [
              "tuple"
            ]
          },
          "metadata": {},
          "execution_count": 26
        }
      ],
      "source": [
        "x = (1, 3, True, False, 'Hello', [3,5,7])\n",
        "type(x)"
      ]
    },
    {
      "cell_type": "code",
      "execution_count": 27,
      "metadata": {
        "id": "3A-Cm_ZtgaFw",
        "outputId": "16e5315f-6e22-4580-ec87-2da3ca30d439",
        "colab": {
          "base_uri": "https://localhost:8080/"
        }
      },
      "outputs": [
        {
          "output_type": "execute_result",
          "data": {
            "text/plain": [
              "(1, 2, 3, 4)"
            ]
          },
          "metadata": {},
          "execution_count": 27
        }
      ],
      "source": [
        "# A range cast as tuple.\n",
        "x = tuple(range(1,5))\n",
        "x"
      ]
    },
    {
      "cell_type": "markdown",
      "metadata": {
        "id": "7m_OkTqogaFw"
      },
      "source": [
        "#### 2.2. Indexing and slicing tuples:"
      ]
    },
    {
      "cell_type": "code",
      "execution_count": 28,
      "metadata": {
        "id": "IeY-8dd6gaFz",
        "outputId": "41969c17-66fa-4154-ea4f-4b5e8ef86c83",
        "colab": {
          "base_uri": "https://localhost:8080/"
        }
      },
      "outputs": [
        {
          "output_type": "execute_result",
          "data": {
            "text/plain": [
              "('Life', 'is')"
            ]
          },
          "metadata": {},
          "execution_count": 28
        }
      ],
      "source": [
        "x = (1, 2, ('Life', 'is'))\n",
        "x[2]"
      ]
    },
    {
      "cell_type": "code",
      "execution_count": 29,
      "metadata": {
        "id": "bPE6POtGgaFz",
        "outputId": "88f19bc5-9b9b-4337-ce74-15d9f84af78f",
        "colab": {
          "base_uri": "https://localhost:8080/",
          "height": 36
        }
      },
      "outputs": [
        {
          "output_type": "execute_result",
          "data": {
            "text/plain": [
              "'is'"
            ],
            "application/vnd.google.colaboratory.intrinsic+json": {
              "type": "string"
            }
          },
          "metadata": {},
          "execution_count": 29
        }
      ],
      "source": [
        "x[2][1]"
      ]
    },
    {
      "cell_type": "code",
      "execution_count": 30,
      "metadata": {
        "id": "wjWylibfgaF0",
        "outputId": "f8d4df7b-23f9-4b4f-92c8-1a92d6e46945",
        "colab": {
          "base_uri": "https://localhost:8080/"
        }
      },
      "outputs": [
        {
          "output_type": "execute_result",
          "data": {
            "text/plain": [
              "['a', 'b']"
            ]
          },
          "metadata": {},
          "execution_count": 30
        }
      ],
      "source": [
        "x = (1, 2, 3, ['a', 'b', 'c'], 4, 5)\n",
        "x[3][:2]"
      ]
    },
    {
      "cell_type": "markdown",
      "metadata": {
        "id": "bdzFNm3ggaF0"
      },
      "source": [
        "#### 2.3. Operations with tuples:"
      ]
    },
    {
      "cell_type": "code",
      "execution_count": 31,
      "metadata": {
        "id": "YEADHx8GgaF0",
        "outputId": "99065bf3-c58b-4983-cd01-497b81806fb1",
        "colab": {
          "base_uri": "https://localhost:8080/"
        }
      },
      "outputs": [
        {
          "output_type": "execute_result",
          "data": {
            "text/plain": [
              "(1, 2, 3, 4, 5, 6)"
            ]
          },
          "metadata": {},
          "execution_count": 31
        }
      ],
      "source": [
        "a = (1, 2, 3)\n",
        "b = (4, 5, 6)\n",
        "a + b"
      ]
    },
    {
      "cell_type": "code",
      "execution_count": 32,
      "metadata": {
        "id": "OD2yRFKGgaF0",
        "outputId": "fa47ae66-3faa-48f6-d2f0-96bd10205d77",
        "colab": {
          "base_uri": "https://localhost:8080/"
        }
      },
      "outputs": [
        {
          "output_type": "execute_result",
          "data": {
            "text/plain": [
              "(1, 2, 3, 1, 2, 3, 1, 2, 3)"
            ]
          },
          "metadata": {},
          "execution_count": 32
        }
      ],
      "source": [
        "a * 3"
      ]
    },
    {
      "cell_type": "markdown",
      "metadata": {
        "id": "JZ1bgQHngaF0"
      },
      "source": [
        "### 3. Dictionary:"
      ]
    },
    {
      "cell_type": "markdown",
      "metadata": {
        "id": "c7z_SS25gaF0"
      },
      "source": [
        "#### 3.1. Creating dictionaries:"
      ]
    },
    {
      "cell_type": "code",
      "execution_count": 33,
      "metadata": {
        "id": "BrmXLz6dgaF0"
      },
      "outputs": [],
      "source": [
        "d = {'x':[1,2,3], 'y':[4,5,6]}"
      ]
    },
    {
      "cell_type": "code",
      "execution_count": 34,
      "metadata": {
        "id": "ZFvw2PDdgaF0",
        "outputId": "243d5d31-f6ef-40d2-fb9b-e818b40a1a2a",
        "colab": {
          "base_uri": "https://localhost:8080/"
        }
      },
      "outputs": [
        {
          "output_type": "execute_result",
          "data": {
            "text/plain": [
              "[1, 2, 3]"
            ]
          },
          "metadata": {},
          "execution_count": 34
        }
      ],
      "source": [
        "d['x']"
      ]
    },
    {
      "cell_type": "code",
      "execution_count": 35,
      "metadata": {
        "id": "ZvOqFLnXgaF0",
        "outputId": "b3a3d3d2-3776-4f7d-fcf8-7c40b8b5ba6b",
        "colab": {
          "base_uri": "https://localhost:8080/"
        }
      },
      "outputs": [
        {
          "output_type": "execute_result",
          "data": {
            "text/plain": [
              "[4, 5, 6]"
            ]
          },
          "metadata": {},
          "execution_count": 35
        }
      ],
      "source": [
        "d['y']"
      ]
    },
    {
      "cell_type": "markdown",
      "metadata": {
        "id": "X7-ui4OLgaF0"
      },
      "source": [
        "#### 3.2. Adding key-value pairs, deletion, update:"
      ]
    },
    {
      "cell_type": "code",
      "execution_count": 36,
      "metadata": {
        "id": "Rih4lLSlgaF0",
        "outputId": "517202cf-0cc5-4e09-fc7a-8c48a136cfdf",
        "colab": {
          "base_uri": "https://localhost:8080/"
        }
      },
      "outputs": [
        {
          "output_type": "execute_result",
          "data": {
            "text/plain": [
              "{'name': 'John', 'gender': 'Male', 'age': 23}"
            ]
          },
          "metadata": {},
          "execution_count": 36
        }
      ],
      "source": [
        "d = {}\n",
        "d['name'] = 'John'\n",
        "d['gender'] = 'Male'\n",
        "d['age'] = 23\n",
        "d"
      ]
    },
    {
      "cell_type": "code",
      "execution_count": 37,
      "metadata": {
        "id": "qJtPypdKgaF0",
        "outputId": "6bd1f931-6b2d-49ee-98e6-17aca681323e",
        "colab": {
          "base_uri": "https://localhost:8080/"
        }
      },
      "outputs": [
        {
          "output_type": "execute_result",
          "data": {
            "text/plain": [
              "{'name': 'John', 'gender': 'Male'}"
            ]
          },
          "metadata": {},
          "execution_count": 37
        }
      ],
      "source": [
        "del d['age']\n",
        "d"
      ]
    },
    {
      "cell_type": "code",
      "execution_count": 38,
      "metadata": {
        "id": "Grsy4ikxgaF0",
        "outputId": "05c3c98b-942f-4565-aca8-638b9ab99709",
        "colab": {
          "base_uri": "https://localhost:8080/"
        }
      },
      "outputs": [
        {
          "output_type": "execute_result",
          "data": {
            "text/plain": [
              "{'name': 'Andrew', 'gender': 'Male'}"
            ]
          },
          "metadata": {},
          "execution_count": 38
        }
      ],
      "source": [
        "d['name'] = 'Andrew'\n",
        "d"
      ]
    },
    {
      "cell_type": "markdown",
      "metadata": {
        "id": "9-mNwcD-gaF0"
      },
      "source": [
        "#### 3.3. Dictionary methods and operations:"
      ]
    },
    {
      "cell_type": "code",
      "execution_count": 39,
      "metadata": {
        "id": "WMYbyIeogaF0",
        "outputId": "817e2367-a74b-4059-f0dd-1a14ab5af204",
        "colab": {
          "base_uri": "https://localhost:8080/"
        }
      },
      "outputs": [
        {
          "output_type": "execute_result",
          "data": {
            "text/plain": [
              "dict_keys(['name', 'gender'])"
            ]
          },
          "metadata": {},
          "execution_count": 39
        }
      ],
      "source": [
        "d.keys()"
      ]
    },
    {
      "cell_type": "code",
      "execution_count": 40,
      "metadata": {
        "id": "_RodQPeUgaF0",
        "outputId": "dcc073fe-4165-4b96-fbed-3cb7be77e519",
        "colab": {
          "base_uri": "https://localhost:8080/"
        }
      },
      "outputs": [
        {
          "output_type": "execute_result",
          "data": {
            "text/plain": [
              "dict_values(['Andrew', 'Male'])"
            ]
          },
          "metadata": {},
          "execution_count": 40
        }
      ],
      "source": [
        "d.values()"
      ]
    },
    {
      "cell_type": "code",
      "execution_count": 41,
      "metadata": {
        "id": "g9BP0TLogaF0",
        "outputId": "e6b0ffe9-8f76-4173-a37e-1c876166c541",
        "colab": {
          "base_uri": "https://localhost:8080/"
        }
      },
      "outputs": [
        {
          "output_type": "execute_result",
          "data": {
            "text/plain": [
              "dict_items([('name', 'Andrew'), ('gender', 'Male')])"
            ]
          },
          "metadata": {},
          "execution_count": 41
        }
      ],
      "source": [
        "d.items()"
      ]
    },
    {
      "cell_type": "code",
      "execution_count": 42,
      "metadata": {
        "id": "sZR0rmOtgaF0",
        "outputId": "ec583f80-d957-4c40-8fec-07e957343f6c",
        "colab": {
          "base_uri": "https://localhost:8080/"
        }
      },
      "outputs": [
        {
          "output_type": "execute_result",
          "data": {
            "text/plain": [
              "{}"
            ]
          },
          "metadata": {},
          "execution_count": 42
        }
      ],
      "source": [
        "d.clear()\n",
        "d"
      ]
    },
    {
      "cell_type": "code",
      "execution_count": 43,
      "metadata": {
        "id": "9WVTjqpvgaF0",
        "outputId": "ec5b9285-2aa3-4df8-def9-efa0fc9c9177",
        "colab": {
          "base_uri": "https://localhost:8080/"
        }
      },
      "outputs": [
        {
          "output_type": "execute_result",
          "data": {
            "text/plain": [
              "0"
            ]
          },
          "metadata": {},
          "execution_count": 43
        }
      ],
      "source": [
        "d = {'name': 'John', 'gender': 'Male', 'age': 23}\n",
        "d.get('wage', 0)"
      ]
    },
    {
      "cell_type": "code",
      "execution_count": 44,
      "metadata": {
        "id": "EIroaAgdgaF0",
        "outputId": "afb8c24e-9d36-4c32-e069-a6ed2556ce01",
        "colab": {
          "base_uri": "https://localhost:8080/"
        }
      },
      "outputs": [
        {
          "output_type": "execute_result",
          "data": {
            "text/plain": [
              "True"
            ]
          },
          "metadata": {},
          "execution_count": 44
        }
      ],
      "source": [
        "# Check whether 'name' is a key of d.\n",
        "'name' in d"
      ]
    },
    {
      "cell_type": "code",
      "execution_count": 45,
      "metadata": {
        "id": "vfEoHXtqgaF0",
        "outputId": "c40335fc-e694-41ad-d217-e12151f442c5",
        "colab": {
          "base_uri": "https://localhost:8080/"
        }
      },
      "outputs": [
        {
          "output_type": "execute_result",
          "data": {
            "text/plain": [
              "False"
            ]
          },
          "metadata": {},
          "execution_count": 45
        }
      ],
      "source": [
        "# Check whether 'wage' is a key of d.\n",
        "'wage' in d"
      ]
    },
    {
      "cell_type": "markdown",
      "metadata": {
        "id": "jbLYjxT3gaF0"
      },
      "source": [
        "### 4. Set:"
      ]
    },
    {
      "cell_type": "markdown",
      "metadata": {
        "id": "zPNNLQeJgaF0"
      },
      "source": [
        "#### 4.1. Creating a set:"
      ]
    },
    {
      "cell_type": "code",
      "execution_count": 46,
      "metadata": {
        "id": "dVDFjGnMgaF1",
        "outputId": "6c21caaa-8ffb-4357-c099-90ef7f83442b",
        "colab": {
          "base_uri": "https://localhost:8080/"
        }
      },
      "outputs": [
        {
          "output_type": "execute_result",
          "data": {
            "text/plain": [
              "{1, 2, 3, 4, 5}"
            ]
          },
          "metadata": {},
          "execution_count": 46
        }
      ],
      "source": [
        "b = set([1,2,3,3,3,3,4,5])\n",
        "b"
      ]
    },
    {
      "cell_type": "markdown",
      "metadata": {
        "id": "9ZXjQUSngaF1"
      },
      "source": [
        "#### 4.2. Operations with sets:"
      ]
    },
    {
      "cell_type": "code",
      "execution_count": 47,
      "metadata": {
        "id": "yMGhKTbfgaF1",
        "outputId": "dfba59ff-0455-4fb0-af92-68ac592bef93",
        "colab": {
          "base_uri": "https://localhost:8080/"
        }
      },
      "outputs": [
        {
          "output_type": "execute_result",
          "data": {
            "text/plain": [
              "{4, 5}"
            ]
          },
          "metadata": {},
          "execution_count": 47
        }
      ],
      "source": [
        "s1 = set([1, 2, 3, 4, 5])\n",
        "s2 = set([4, 5, 6, 7, 8])\n",
        "s1 & s2"
      ]
    },
    {
      "cell_type": "code",
      "execution_count": 48,
      "metadata": {
        "id": "YRb9hb1hgaF1",
        "outputId": "1e1f3ca5-19ce-47bd-b26b-4109fd59adcb",
        "colab": {
          "base_uri": "https://localhost:8080/"
        }
      },
      "outputs": [
        {
          "output_type": "execute_result",
          "data": {
            "text/plain": [
              "{4, 5}"
            ]
          },
          "metadata": {},
          "execution_count": 48
        }
      ],
      "source": [
        "s1.intersection(s2)"
      ]
    },
    {
      "cell_type": "code",
      "execution_count": 49,
      "metadata": {
        "id": "koGIYyIDgaF1",
        "outputId": "2ecbe666-7634-42df-e2fa-b7718990a2a4",
        "colab": {
          "base_uri": "https://localhost:8080/"
        }
      },
      "outputs": [
        {
          "output_type": "execute_result",
          "data": {
            "text/plain": [
              "{1, 2, 3, 4, 5, 6, 7, 8}"
            ]
          },
          "metadata": {},
          "execution_count": 49
        }
      ],
      "source": [
        "s1 | s2"
      ]
    },
    {
      "cell_type": "code",
      "execution_count": 50,
      "metadata": {
        "id": "4Q1uOmhAgaF1",
        "outputId": "69d637c9-850a-41df-d597-f23528049b82",
        "colab": {
          "base_uri": "https://localhost:8080/"
        }
      },
      "outputs": [
        {
          "output_type": "execute_result",
          "data": {
            "text/plain": [
              "{1, 2, 3, 4, 5, 6, 7, 8}"
            ]
          },
          "metadata": {},
          "execution_count": 50
        }
      ],
      "source": [
        "s1.union(s2)"
      ]
    },
    {
      "cell_type": "code",
      "execution_count": 51,
      "metadata": {
        "id": "L1en2tEugaF1",
        "outputId": "09709bf1-0c06-458f-bc03-9455d5e38d00",
        "colab": {
          "base_uri": "https://localhost:8080/"
        }
      },
      "outputs": [
        {
          "output_type": "execute_result",
          "data": {
            "text/plain": [
              "{1, 2, 3}"
            ]
          },
          "metadata": {},
          "execution_count": 51
        }
      ],
      "source": [
        "s1 - s2"
      ]
    },
    {
      "cell_type": "code",
      "execution_count": 52,
      "metadata": {
        "id": "gr2Rw67sgaF1",
        "outputId": "da2d6a04-6eaa-4bcd-bfad-d6ef8173d9b0",
        "colab": {
          "base_uri": "https://localhost:8080/"
        }
      },
      "outputs": [
        {
          "output_type": "execute_result",
          "data": {
            "text/plain": [
              "{1, 2, 3}"
            ]
          },
          "metadata": {},
          "execution_count": 52
        }
      ],
      "source": [
        "s1.difference(s2)"
      ]
    },
    {
      "cell_type": "code",
      "execution_count": 53,
      "metadata": {
        "id": "kVT0S8vBgaF1",
        "outputId": "8fcac309-fb38-4aac-ace5-dbb60743abfc",
        "colab": {
          "base_uri": "https://localhost:8080/"
        }
      },
      "outputs": [
        {
          "output_type": "execute_result",
          "data": {
            "text/plain": [
              "{1, 2, 3, 4, 5, 6}"
            ]
          },
          "metadata": {},
          "execution_count": 53
        }
      ],
      "source": [
        "a = set([1, 2, 3, 4, 5])\n",
        "a.add(6)\n",
        "a"
      ]
    },
    {
      "cell_type": "code",
      "execution_count": 54,
      "metadata": {
        "id": "jlSrpSE4gaF1",
        "outputId": "9c1808df-56f6-45c5-9153-3a75027083ba",
        "colab": {
          "base_uri": "https://localhost:8080/"
        }
      },
      "outputs": [
        {
          "output_type": "execute_result",
          "data": {
            "text/plain": [
              "{1, 2, 3, 4, 5, 6, 7, 8, 9}"
            ]
          },
          "metadata": {},
          "execution_count": 54
        }
      ],
      "source": [
        "a.update([7, 8, 9])\n",
        "a"
      ]
    },
    {
      "cell_type": "code",
      "execution_count": 55,
      "metadata": {
        "id": "QpZF5n6HgaF1",
        "outputId": "3c9ece6d-d3c6-421f-ce66-4f4a393a4afe",
        "colab": {
          "base_uri": "https://localhost:8080/"
        }
      },
      "outputs": [
        {
          "output_type": "execute_result",
          "data": {
            "text/plain": [
              "{1, 2, 3, 4, 5, 6, 7, 8}"
            ]
          },
          "metadata": {},
          "execution_count": 55
        }
      ],
      "source": [
        "a.remove(9)\n",
        "a"
      ]
    }
  ],
  "metadata": {
    "kernelspec": {
      "display_name": "Python 3",
      "language": "python",
      "name": "python3"
    },
    "language_info": {
      "codemirror_mode": {
        "name": "ipython",
        "version": 3
      },
      "file_extension": ".py",
      "mimetype": "text/x-python",
      "name": "python",
      "nbconvert_exporter": "python",
      "pygments_lexer": "ipython3",
      "version": "3.7.3"
    },
    "colab": {
      "provenance": [],
      "include_colab_link": true
    }
  },
  "nbformat": 4,
  "nbformat_minor": 0
}