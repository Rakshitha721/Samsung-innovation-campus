{
  "cells": [
    {
      "cell_type": "markdown",
      "metadata": {
        "id": "view-in-github",
        "colab_type": "text"
      },
      "source": [
        "<a href=\"https://colab.research.google.com/github/Rakshitha721/Samsung-innovation-campus/blob/main/ex_0102.ipynb\" target=\"_parent\"><img src=\"https://colab.research.google.com/assets/colab-badge.svg\" alt=\"Open In Colab\"/></a>"
      ]
    },
    {
      "cell_type": "markdown",
      "metadata": {
        "id": "vJOQu19nfrel"
      },
      "source": [
        "## Coding Exercise #0102"
      ]
    },
    {
      "cell_type": "markdown",
      "metadata": {
        "id": "hnTqAr49frem"
      },
      "source": [
        "### 1. Number:"
      ]
    },
    {
      "cell_type": "markdown",
      "metadata": {
        "id": "wpcx-pCFfrem"
      },
      "source": [
        "#### 1.1. Operations with numbers:"
      ]
    },
    {
      "cell_type": "code",
      "execution_count": null,
      "metadata": {
        "id": "e0RyWMNZfrem"
      },
      "outputs": [],
      "source": [
        "1+1"
      ]
    },
    {
      "cell_type": "code",
      "execution_count": null,
      "metadata": {
        "id": "dUBxXVy0frem"
      },
      "outputs": [],
      "source": [
        "2**3"
      ]
    },
    {
      "cell_type": "code",
      "execution_count": null,
      "metadata": {
        "id": "oJEWHMSqfren"
      },
      "outputs": [],
      "source": [
        "8%5"
      ]
    },
    {
      "cell_type": "code",
      "execution_count": null,
      "metadata": {
        "id": "cDaihLMbfren"
      },
      "outputs": [],
      "source": [
        "8.0//5.0"
      ]
    },
    {
      "cell_type": "markdown",
      "metadata": {
        "id": "4AuYArFufren"
      },
      "source": [
        "### 2. String:"
      ]
    },
    {
      "cell_type": "markdown",
      "metadata": {
        "id": "8PVK0ejhfren"
      },
      "source": [
        "#### 2.1. Basics:"
      ]
    },
    {
      "cell_type": "code",
      "execution_count": null,
      "metadata": {
        "id": "bI53fK67fren"
      },
      "outputs": [],
      "source": [
        "# A quote within another quote.\n",
        "print(\"He said, 'Python is very easy'\")\n",
        "print('He said, \"Python is very easy\"')"
      ]
    },
    {
      "cell_type": "code",
      "execution_count": null,
      "metadata": {
        "id": "Zt9xkdfzfren"
      },
      "outputs": [],
      "source": [
        "# Multi-line string.\n",
        "my_string = \"\"\"Hello !!!\n",
        "my\n",
        "name\n",
        "is\n",
        "Python.\"\"\"\n",
        "print(my_string)"
      ]
    },
    {
      "cell_type": "markdown",
      "metadata": {
        "id": "iHlrVAVRfren"
      },
      "source": [
        "#### 2.2. Operations with strings:"
      ]
    },
    {
      "cell_type": "code",
      "execution_count": null,
      "metadata": {
        "id": "H7c1iF3ifren"
      },
      "outputs": [],
      "source": [
        "str1 = 'First string. '\n",
        "str2 = 'Second string.'\n",
        "print(str1 + str2)"
      ]
    },
    {
      "cell_type": "code",
      "execution_count": null,
      "metadata": {
        "id": "z6U_dm-Qfreo"
      },
      "outputs": [],
      "source": [
        "str = 'Python. '\n",
        "print(str*5)"
      ]
    },
    {
      "cell_type": "markdown",
      "metadata": {
        "id": "3cI7BAc3freo"
      },
      "source": [
        "#### 2.3. Indexing and slilcing strings:"
      ]
    },
    {
      "cell_type": "code",
      "execution_count": null,
      "metadata": {
        "id": "QXi6UDxvfreo"
      },
      "outputs": [],
      "source": [
        "str = 'Life is too short, You need Python!'\n",
        "print(str[0])\n",
        "print(str[-1])\n",
        "print(str[0:4])\n",
        "print(str[5:])"
      ]
    },
    {
      "cell_type": "markdown",
      "metadata": {
        "id": "tfRtv-OUfreo"
      },
      "source": [
        "#### 2.4. Functions and methods for string objects:"
      ]
    },
    {
      "cell_type": "code",
      "execution_count": null,
      "metadata": {
        "id": "4h05S_xyfreo"
      },
      "outputs": [],
      "source": [
        "x = 'Python'\n",
        "print(len(x))"
      ]
    },
    {
      "cell_type": "code",
      "execution_count": null,
      "metadata": {
        "id": "gvP1mgBbfreo"
      },
      "outputs": [],
      "source": [
        "x.count('h')"
      ]
    },
    {
      "cell_type": "code",
      "execution_count": null,
      "metadata": {
        "id": "7b5IJLREfreo"
      },
      "outputs": [],
      "source": [
        "x.upper()"
      ]
    },
    {
      "cell_type": "code",
      "execution_count": null,
      "metadata": {
        "id": "2JzVxalEfreo"
      },
      "outputs": [],
      "source": [
        "x.lower()"
      ]
    },
    {
      "cell_type": "code",
      "execution_count": null,
      "metadata": {
        "id": "HZ6KRw1Hfreo"
      },
      "outputs": [],
      "source": [
        "x.find('o')"
      ]
    },
    {
      "cell_type": "code",
      "execution_count": null,
      "metadata": {
        "id": "J3s1JfIZfreo"
      },
      "outputs": [],
      "source": [
        "x.find('w')"
      ]
    },
    {
      "cell_type": "code",
      "execution_count": null,
      "metadata": {
        "id": "DvSjsIrwfreo"
      },
      "outputs": [],
      "source": [
        "x.index('o')"
      ]
    },
    {
      "cell_type": "code",
      "execution_count": null,
      "metadata": {
        "id": "g3K40Gv1freo"
      },
      "outputs": [],
      "source": [
        "# 'w' is not found in x. This will result in an error.\n",
        "x.index('w')"
      ]
    },
    {
      "cell_type": "code",
      "execution_count": null,
      "metadata": {
        "id": "_-TU0yyHfreo"
      },
      "outputs": [],
      "source": [
        "x = 'Life is too short, You need Python!'"
      ]
    },
    {
      "cell_type": "code",
      "execution_count": null,
      "metadata": {
        "id": "wTkId1ctfreo"
      },
      "outputs": [],
      "source": [
        "x.split(' ')"
      ]
    },
    {
      "cell_type": "code",
      "execution_count": null,
      "metadata": {
        "id": "T8E1kUFOfreo"
      },
      "outputs": [],
      "source": [
        "y = x.split(' ')\n",
        "a = ' '\n",
        "print(a.join(y))"
      ]
    },
    {
      "cell_type": "markdown",
      "metadata": {
        "id": "_G22-eBkfreo"
      },
      "source": [
        "### 3. Boolean:"
      ]
    },
    {
      "cell_type": "markdown",
      "metadata": {
        "id": "i4t9MG7Yfreo"
      },
      "source": [
        "#### 3.1. Operations with Booleans:"
      ]
    },
    {
      "cell_type": "markdown",
      "metadata": {
        "id": "XC_Z8IXRfreo"
      },
      "source": [
        "AND operator:"
      ]
    },
    {
      "cell_type": "code",
      "execution_count": null,
      "metadata": {
        "id": "TbktM4Bffreo"
      },
      "outputs": [],
      "source": [
        "False and False"
      ]
    },
    {
      "cell_type": "code",
      "execution_count": null,
      "metadata": {
        "id": "gr7M-rZ5freo"
      },
      "outputs": [],
      "source": [
        "False and True"
      ]
    },
    {
      "cell_type": "code",
      "execution_count": null,
      "metadata": {
        "id": "idTQphaffreo"
      },
      "outputs": [],
      "source": [
        "True and False"
      ]
    },
    {
      "cell_type": "code",
      "execution_count": null,
      "metadata": {
        "id": "X-ARf1Wtfreo"
      },
      "outputs": [],
      "source": [
        "True and True"
      ]
    },
    {
      "cell_type": "code",
      "execution_count": null,
      "metadata": {
        "id": "qGdI23s-freo"
      },
      "outputs": [],
      "source": [
        "(3 > 2) and (5 < 4)"
      ]
    },
    {
      "cell_type": "code",
      "execution_count": null,
      "metadata": {
        "id": "k4A7DwBrfrep"
      },
      "outputs": [],
      "source": [
        "(3 > 2) and (5 > 4)"
      ]
    },
    {
      "cell_type": "markdown",
      "metadata": {
        "id": "AwggrYlYfrep"
      },
      "source": [
        "OR operator:"
      ]
    },
    {
      "cell_type": "code",
      "execution_count": null,
      "metadata": {
        "id": "poAiFno0frep"
      },
      "outputs": [],
      "source": [
        "False or False"
      ]
    },
    {
      "cell_type": "code",
      "execution_count": null,
      "metadata": {
        "id": "Y3mxBBw-frew"
      },
      "outputs": [],
      "source": [
        "True or False"
      ]
    },
    {
      "cell_type": "code",
      "execution_count": null,
      "metadata": {
        "id": "LTyPCEmyfrew"
      },
      "outputs": [],
      "source": [
        "False or True"
      ]
    },
    {
      "cell_type": "code",
      "execution_count": null,
      "metadata": {
        "id": "9h88tB7Ufrew"
      },
      "outputs": [],
      "source": [
        "False or True"
      ]
    },
    {
      "cell_type": "code",
      "execution_count": null,
      "metadata": {
        "id": "u-DZUsF3frew"
      },
      "outputs": [],
      "source": [
        "True or True"
      ]
    },
    {
      "cell_type": "markdown",
      "metadata": {
        "id": "D5giySFQfrew"
      },
      "source": [
        "NOT operator:"
      ]
    },
    {
      "cell_type": "code",
      "execution_count": null,
      "metadata": {
        "id": "Ik0GPWs5frew"
      },
      "outputs": [],
      "source": [
        "not True"
      ]
    },
    {
      "cell_type": "code",
      "execution_count": null,
      "metadata": {
        "id": "h0c7BELkfrew"
      },
      "outputs": [],
      "source": [
        "not False"
      ]
    },
    {
      "cell_type": "code",
      "execution_count": null,
      "metadata": {
        "id": "Yi4ywAQ4frew"
      },
      "outputs": [],
      "source": [
        "not (4 > 2)"
      ]
    },
    {
      "cell_type": "code",
      "execution_count": null,
      "metadata": {
        "id": "urRa_LFXfrew"
      },
      "outputs": [],
      "source": [
        "not (4 < 2)"
      ]
    },
    {
      "cell_type": "markdown",
      "metadata": {
        "id": "lhbfXY1bfrew"
      },
      "source": [
        "#### 3.2. Implicit Boolean:"
      ]
    },
    {
      "cell_type": "code",
      "execution_count": null,
      "metadata": {
        "id": "TvZ1UmJ1frew"
      },
      "outputs": [],
      "source": [
        "x = []\n",
        "y = [1,2,3]"
      ]
    },
    {
      "cell_type": "code",
      "execution_count": null,
      "metadata": {
        "id": "gXdGNBSXfrew"
      },
      "outputs": [],
      "source": [
        "if x:\n",
        "    print('Not empty.')\n",
        "else:\n",
        "    print('Empty!')"
      ]
    },
    {
      "cell_type": "code",
      "execution_count": null,
      "metadata": {
        "id": "1fO3J5CUfrew"
      },
      "outputs": [],
      "source": [
        "if y:\n",
        "    print('Not empty.')\n",
        "else:\n",
        "    print('Empty!')"
      ]
    },
    {
      "cell_type": "code",
      "execution_count": null,
      "metadata": {
        "id": "BLgpa9LSfrew"
      },
      "outputs": [],
      "source": []
    }
  ],
  "metadata": {
    "kernelspec": {
      "display_name": "Python 3",
      "language": "python",
      "name": "python3"
    },
    "language_info": {
      "codemirror_mode": {
        "name": "ipython",
        "version": 3
      },
      "file_extension": ".py",
      "mimetype": "text/x-python",
      "name": "python",
      "nbconvert_exporter": "python",
      "pygments_lexer": "ipython3",
      "version": "3.7.3"
    },
    "colab": {
      "provenance": [],
      "include_colab_link": true
    }
  },
  "nbformat": 4,
  "nbformat_minor": 0
}